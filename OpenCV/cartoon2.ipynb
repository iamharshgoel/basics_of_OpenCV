{
 "cells": [
  {
   "cell_type": "code",
   "execution_count": 17,
   "metadata": {},
   "outputs": [],
   "source": [
    "import cv2  # importing OpenCV library\n",
    "import numpy as np\n",
    "\n",
    "num_down = 2  # number of down sampling steps\n",
    "num_bilateral = 7  # number of bilateral filtering steps\n",
    "\n",
    "image = cv2.imread('img11.jpg')\n",
    "cv2.imshow('image',image)\n",
    "image = cv2.resize(image, (800, 600))\n",
    "\n",
    "# Down sampling of an image\n",
    "image_color = image\n",
    "for _ in range(num_down):\n",
    "    image_color = cv2.pyrDown(image_color)\n",
    "\n",
    "# applying bilateral filter to image\n",
    "for _ in range(num_bilateral):\n",
    "    image_color = cv2.bilateralFilter(\n",
    "        image_color, 9, 9,7)\n",
    "\n",
    "# Upsample image to its original size\n",
    "'''The three parameters in cv2.bilateralFilter control the diameter of the pixel neighborhood (d) \n",
    "and the standard deviation of the filter in color space (sigmaColor) as well as coordinate space (sigmaSpace).'''\n",
    "\n",
    "for _ in range(num_down):\n",
    "    image_color = cv2.pyrUp(image_color)\n",
    "\n",
    "\n",
    "img_gray = cv2.cvtColor(image, cv2.COLOR_RGB2GRAY)   # Convert to grayscale\n",
    "img_blur = cv2.medianBlur(img_gray, 7)     # Blurring\n",
    "\n",
    "# detect and enhance images\n",
    "'''It will remove if there is any image noise left using adaptive thresholding'''\n",
    "\n",
    "img_edge = cv2.adaptiveThreshold(img_blur, 255,\n",
    "                                 cv2.ADAPTIVE_THRESH_MEAN_C,\n",
    "                                 cv2.THRESH_BINARY,\n",
    "                                 blockSize=9,\n",
    "                                 C=2)\n",
    "\n",
    "# Converting back from grayscale to Color\n",
    "(x, y, z) = image_color.shape\n",
    "img_edge = cv2.resize(img_edge, (y, x))\n",
    "img_edge = cv2.cvtColor(img_edge, cv2.COLOR_GRAY2RGB)\n",
    "image_cartoon = cv2.bitwise_and(\n",
    "    image_color, img_edge)  # Using BITWISE AND Operator\n",
    "\n"
   ]
  },
  {
   "cell_type": "code",
   "execution_count": null,
   "metadata": {},
   "outputs": [],
   "source": [
    "cv2.imshow('cartoon', image_cartoon)\n",
    "cv2.waitKey(0)\n",
    "cv2.destroyAllWindows()\n"
   ]
  },
  {
   "cell_type": "code",
   "execution_count": null,
   "metadata": {},
   "outputs": [],
   "source": []
  }
 ],
 "metadata": {
  "kernelspec": {
   "display_name": "Python 3",
   "language": "python",
   "name": "python3"
  },
  "language_info": {
   "codemirror_mode": {
    "name": "ipython",
    "version": 3
   },
   "file_extension": ".py",
   "mimetype": "text/x-python",
   "name": "python",
   "nbconvert_exporter": "python",
   "pygments_lexer": "ipython3",
   "version": "3.7.5"
  }
 },
 "nbformat": 4,
 "nbformat_minor": 4
}
